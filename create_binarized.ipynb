{
 "cells": [
  {
   "cell_type": "code",
   "execution_count": 1,
   "id": "e63e2273",
   "metadata": {},
   "outputs": [],
   "source": [
    "import numpy as np\n",
    "import pandas as pd\n",
    "import openai\n",
    "import os\n",
    "import time"
   ]
  },
  {
   "cell_type": "code",
   "execution_count": 153,
   "id": "f8809f19",
   "metadata": {},
   "outputs": [],
   "source": [
    "biden_df = pd.read_csv(\"cleaned_tweets_biden.csv\")\n",
    "biden_df = biden_df[[\"cleaned_tweets\"]][:500]\n",
    "trump_df = pd.read_csv(\"cleaned_tweets_trump.csv\")\n",
    "trump_df = trump_df[[\"cleaned_tweets\"]][:500]"
   ]
  },
  {
   "cell_type": "code",
   "execution_count": 165,
   "id": "697297d0",
   "metadata": {},
   "outputs": [],
   "source": [
    "new_df = pd.concat([biden_df, trump_df], ignore_index = True, axis = 0)"
   ]
  },
  {
   "cell_type": "code",
   "execution_count": 156,
   "id": "f6598f82",
   "metadata": {},
   "outputs": [],
   "source": [
    "openai.api_key = 'INSERT_API_KEY'"
   ]
  },
  {
   "cell_type": "code",
   "execution_count": 157,
   "id": "f51d54c1",
   "metadata": {},
   "outputs": [],
   "source": [
    "def get_completion(prompt, model=\"gpt-3.5-turbo\"):\n",
    "    messages = [{\"role\": \"user\", \"content\": prompt}]\n",
    "    response = openai.ChatCompletion.create(\n",
    "    model=model,\n",
    "    messages=messages,\n",
    "    temperature=0\n",
    "    )\n",
    "\n",
    "    return response.choices[0].message[\"content\"]"
   ]
  },
  {
   "cell_type": "code",
   "execution_count": 158,
   "id": "81052655",
   "metadata": {},
   "outputs": [
    {
     "data": {
      "text/plain": [
       "1000"
      ]
     },
     "execution_count": 158,
     "metadata": {},
     "output_type": "execute_result"
    }
   ],
   "source": [
    "tweets = list(new_df[\"cleaned_tweets\"])\n",
    "len(tweets)"
   ]
  },
  {
   "cell_type": "code",
   "execution_count": 159,
   "id": "69c4dad5",
   "metadata": {},
   "outputs": [
    {
     "data": {
      "text/plain": [
       "542.7469418048859"
      ]
     },
     "execution_count": 159,
     "metadata": {},
     "output_type": "execute_result"
    }
   ],
   "source": [
    "import time \n",
    "start = time.time()\n",
    "responses = []\n",
    "for tweet in tweets:\n",
    "    prompt = \"Read this tweet: \" + tweet + \" Is this tweet posted by someone that supports \\\n",
    "    presidential candidate Biden or presidential candidate Trump? \\\n",
    "    Can you state your answer as '0', '1', with 0 referring to Biden, \\\n",
    "    1 referring to Trump. Do not give an explanation.\"\n",
    "    response = get_completion(prompt)\n",
    "    responses.append(response)\n",
    "    \n",
    "end = time.time()\n",
    "end-start"
   ]
  },
  {
   "cell_type": "code",
   "execution_count": 160,
   "id": "ff01c4eb",
   "metadata": {},
   "outputs": [
    {
     "data": {
      "text/plain": [
       "1000"
      ]
     },
     "execution_count": 160,
     "metadata": {},
     "output_type": "execute_result"
    }
   ],
   "source": [
    "len(responses)"
   ]
  },
  {
   "cell_type": "code",
   "execution_count": 161,
   "id": "41e1c479",
   "metadata": {},
   "outputs": [],
   "source": [
    "new_df[\"binarized\"] = responses"
   ]
  },
  {
   "cell_type": "code",
   "execution_count": 162,
   "id": "0487392b",
   "metadata": {},
   "outputs": [
    {
     "data": {
      "text/html": [
       "<div>\n",
       "<style scoped>\n",
       "    .dataframe tbody tr th:only-of-type {\n",
       "        vertical-align: middle;\n",
       "    }\n",
       "\n",
       "    .dataframe tbody tr th {\n",
       "        vertical-align: top;\n",
       "    }\n",
       "\n",
       "    .dataframe thead th {\n",
       "        text-align: right;\n",
       "    }\n",
       "</style>\n",
       "<table border=\"1\" class=\"dataframe\">\n",
       "  <thead>\n",
       "    <tr style=\"text-align: right;\">\n",
       "      <th></th>\n",
       "      <th>cleaned_tweets</th>\n",
       "      <th>binarized</th>\n",
       "    </tr>\n",
       "  </thead>\n",
       "  <tbody>\n",
       "    <tr>\n",
       "      <th>0</th>\n",
       "      <td>realDonaldTrump  SenatorCollins Deadliest even...</td>\n",
       "      <td>1</td>\n",
       "    </tr>\n",
       "    <tr>\n",
       "      <th>1</th>\n",
       "      <td>kylegriffin1 The vote counting is torturing  T...</td>\n",
       "      <td>0</td>\n",
       "    </tr>\n",
       "    <tr>\n",
       "      <th>2</th>\n",
       "      <td>Donald  Trump Has At Least $1 Billion In Debt,...</td>\n",
       "      <td>0</td>\n",
       "    </tr>\n",
       "    <tr>\n",
       "      <th>3</th>\n",
       "      <td>matthewjdowd Many are still uneducated about w...</td>\n",
       "      <td>0</td>\n",
       "    </tr>\n",
       "    <tr>\n",
       "      <th>4</th>\n",
       "      <td>I agree 1000%!!!\\n\\n\" Hey ho, hey ho  Trump ha...</td>\n",
       "      <td>0</td>\n",
       "    </tr>\n",
       "    <tr>\n",
       "      <th>...</th>\n",
       "      <td>...</td>\n",
       "      <td>...</td>\n",
       "    </tr>\n",
       "    <tr>\n",
       "      <th>995</th>\n",
       "      <td>Thank You  HawleyMO \\n JoeBiden</td>\n",
       "      <td>1</td>\n",
       "    </tr>\n",
       "    <tr>\n",
       "      <th>996</th>\n",
       "      <td>ThePlumLineGS So either he did (and that’s bad...</td>\n",
       "      <td>0</td>\n",
       "    </tr>\n",
       "    <tr>\n",
       "      <th>997</th>\n",
       "      <td>HunterBiden in Sack with  Crack: Shock Photos ...</td>\n",
       "      <td>1</td>\n",
       "    </tr>\n",
       "    <tr>\n",
       "      <th>998</th>\n",
       "      <td>ok, it wasn't rocket science, and i hate to te...</td>\n",
       "      <td>1</td>\n",
       "    </tr>\n",
       "    <tr>\n",
       "      <th>999</th>\n",
       "      <td>BidenCrimeFamily  JoeBiden</td>\n",
       "      <td>1</td>\n",
       "    </tr>\n",
       "  </tbody>\n",
       "</table>\n",
       "<p>1000 rows × 2 columns</p>\n",
       "</div>"
      ],
      "text/plain": [
       "                                        cleaned_tweets binarized\n",
       "0    realDonaldTrump  SenatorCollins Deadliest even...         1\n",
       "1    kylegriffin1 The vote counting is torturing  T...         0\n",
       "2    Donald  Trump Has At Least $1 Billion In Debt,...         0\n",
       "3    matthewjdowd Many are still uneducated about w...         0\n",
       "4    I agree 1000%!!!\\n\\n\" Hey ho, hey ho  Trump ha...         0\n",
       "..                                                 ...       ...\n",
       "995                    Thank You  HawleyMO \\n JoeBiden         1\n",
       "996  ThePlumLineGS So either he did (and that’s bad...         0\n",
       "997  HunterBiden in Sack with  Crack: Shock Photos ...         1\n",
       "998  ok, it wasn't rocket science, and i hate to te...         1\n",
       "999                         BidenCrimeFamily  JoeBiden         1\n",
       "\n",
       "[1000 rows x 2 columns]"
      ]
     },
     "execution_count": 162,
     "metadata": {},
     "output_type": "execute_result"
    }
   ],
   "source": [
    "new_df"
   ]
  },
  {
   "cell_type": "code",
   "execution_count": 164,
   "id": "f0f94de0",
   "metadata": {},
   "outputs": [],
   "source": [
    "new_df.to_csv(\"combined_df.csv\")"
   ]
  },
  {
   "cell_type": "code",
   "execution_count": null,
   "id": "bc45b12b",
   "metadata": {},
   "outputs": [],
   "source": []
  }
 ],
 "metadata": {
  "kernelspec": {
   "display_name": "Python 3 (ipykernel)",
   "language": "python",
   "name": "python3"
  },
  "language_info": {
   "codemirror_mode": {
    "name": "ipython",
    "version": 3
   },
   "file_extension": ".py",
   "mimetype": "text/x-python",
   "name": "python",
   "nbconvert_exporter": "python",
   "pygments_lexer": "ipython3",
   "version": "3.9.7"
  }
 },
 "nbformat": 4,
 "nbformat_minor": 5
}
